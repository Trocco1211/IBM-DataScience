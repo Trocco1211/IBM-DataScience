{
 "cells": [
  {
   "cell_type": "markdown",
   "id": "d0c6dedd-983a-4e7f-a878-10a4fe33e995",
   "metadata": {},
   "source": [
    "# Data Science Tools and Ecosystem"
   ]
  },
  {
   "cell_type": "code",
   "execution_count": null,
   "id": "5c852ee7-e443-4c41-9b8e-86a55c81c75f",
   "metadata": {},
   "outputs": [],
   "source": []
  },
  {
   "cell_type": "markdown",
   "id": "2b6dfa84-55f9-40cf-b1eb-b55ce13e6bf2",
   "metadata": {},
   "source": [
    "# In this notebook, Data Science Tools and Ecosystem are summarized."
   ]
  },
  {
   "cell_type": "markdown",
   "id": "49200214-af1e-446d-bc9f-ec3714d2b493",
   "metadata": {},
   "source": [
    "Some of the popular languages that Data Scientists use are:"
   ]
  },
  {
   "cell_type": "markdown",
   "id": "0beee713-0658-4667-84cc-16a750eff91f",
   "metadata": {},
   "source": [
    "1. R\n",
    "2. Python\n",
    "3. SQL"
   ]
  },
  {
   "cell_type": "markdown",
   "id": "10c847b4-baeb-40be-9510-36027238905f",
   "metadata": {},
   "source": [
    "Some of the commonly used libraries used by Data Scientists include"
   ]
  },
  {
   "cell_type": "markdown",
   "id": "cfc3ea97-cb6d-4b91-b6b7-4a3d9913083d",
   "metadata": {},
   "source": [
    "- Pandas - DataFrame creation and manipulation\n",
    "- caret - Machine Learning in R\n",
    "- Polars(will eventually replace pandas due to being faster for large data sets)\n",
    "- plotgg  Data Visualization in R\n"
   ]
  },
  {
   "cell_type": "markdown",
   "id": "bfe57601-e215-47fe-91a5-5c9a601fff73",
   "metadata": {},
   "source": [
    "**Objectives**\n",
    "\n",
    "- R - This is mainly used by academics and healthcare. It is great for statistics and visualization. \n",
    "- Python - The most popular language for data science. It is very verstalie with a slew of libraries for data science needs. \n",
    "- SQL - This is great manipulating data in databases and querying to find the needed results. \n",
    "\n"
   ]
  },
  {
   "cell_type": "markdown",
   "id": "9ef36408-e8de-4efb-ad59-95d4a3a73a00",
   "metadata": {},
   "source": [
    "Data Science Tools"
   ]
  },
  {
   "cell_type": "markdown",
   "id": "92c43f0f-40f5-4ddd-b4b3-3f0d583f5f02",
   "metadata": {},
   "source": [
    "\n",
    "| Data Science Tools |\n",
    "----\n",
    "RStudio\n",
    "GitHub\n",
    "JupterNotebook\n"
   ]
  },
  {
   "cell_type": "markdown",
   "id": "77d5104f-e8c8-4cf1-b71a-7ab9a6a11ad7",
   "metadata": {},
   "source": [
    "### Below are a few examples of evaluating arithmetic expressions in Python"
   ]
  },
  {
   "cell_type": "code",
   "execution_count": 3,
   "id": "98c7159d-5f8f-447b-889f-3b1da7cf323f",
   "metadata": {},
   "outputs": [
    {
     "data": {
      "text/plain": [
       "17"
      ]
     },
     "execution_count": 3,
     "metadata": {},
     "output_type": "execute_result"
    }
   ],
   "source": [
    "# This a simple arithmetic expression to mutiply then add integers\n",
    "(3*4)+5"
   ]
  },
  {
   "cell_type": "code",
   "execution_count": 7,
   "id": "ae2c41c5-df23-42a4-b678-50e4133c8571",
   "metadata": {},
   "outputs": [
    {
     "data": {
      "text/plain": [
       "3.3333333333333335"
      ]
     },
     "execution_count": 7,
     "metadata": {},
     "output_type": "execute_result"
    }
   ],
   "source": [
    "# This will convert 200 minutes to hours by diving by 60\n",
    "200 / 60"
   ]
  },
  {
   "cell_type": "markdown",
   "id": "f946804e-3ab9-4c11-b886-59c14111cf19",
   "metadata": {},
   "source": [
    "## Author\n",
    "Tom Rocco"
   ]
  },
  {
   "cell_type": "code",
   "execution_count": null,
   "id": "64188a4a-97d9-4e67-8ba0-940098645149",
   "metadata": {},
   "outputs": [],
   "source": []
  }
 ],
 "metadata": {
  "kernelspec": {
   "display_name": "Python",
   "language": "python",
   "name": "conda-env-python-py"
  },
  "language_info": {
   "codemirror_mode": {
    "name": "ipython",
    "version": 3
   },
   "file_extension": ".py",
   "mimetype": "text/x-python",
   "name": "python",
   "nbconvert_exporter": "python",
   "pygments_lexer": "ipython3",
   "version": "3.7.12"
  }
 },
 "nbformat": 4,
 "nbformat_minor": 5
}
